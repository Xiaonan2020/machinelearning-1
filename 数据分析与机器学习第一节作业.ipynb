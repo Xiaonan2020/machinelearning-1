{
 "cells": [
  {
   "cell_type": "markdown",
   "metadata": {},
   "source": [
    "书面作业\n",
    "\n",
    "1.有监督学习无监督学习区别\n",
    "  有监督学习：对具有标记的训练样本进行学习，利用这个样本进行训练得到一个模型，对训练样本集外的数据进行分类预测。\n",
    "  无监督学习：对未标记的样本进行训练学习，发现这些样本中的数据集规律。\n",
    "  \n",
    "2.传统机器学习模型\n",
    "  1）决策树学习 2）贝叶斯方法 3）聚类算法 4）关联规则学习 5）支持向量机 6）偏最小二乘回归 \n",
    "  \n",
    "3.为什么PR曲线能在正负样本及其不均衡的情况下很好的反映出模型真正地分类效果\n",
    "  PR曲线，反应的是精确率P和召回率R之间的关系。以P为横坐标，R作为纵坐标，就是PR网线。对于同一个分类模型，通过调整分类的阈值（从大到小变化），就可以得到不同的P-R值，即可画出PR曲线。PR曲线只关心与正类有关的参数（TP, FN, FP）。因此，即使正负类样本的数目相差较大，由于不包含TN，也不会对最后的曲线结果带来很大的影响。\n",
    "    \n"
   ]
  },
  {
   "cell_type": "markdown",
   "metadata": {},
   "source": [
    "代码作业"
   ]
  },
  {
   "cell_type": "code",
   "execution_count": 22,
   "metadata": {},
   "outputs": [
    {
     "name": "stdout",
     "output_type": "stream",
     "text": [
      "[[-2.6, 6.6, 1], [1.4, 1.6, 2], [-2.5, 1.2, 2]]\n"
     ]
    }
   ],
   "source": [
    "import math\n",
    "a = [[1,1,2],[0.4,5.2,1],[-2.8,-1.1,2],[3.2,1.4,1],[-1.3,3.2,1],[-3,3.1,2]]\n",
    "b = [[-2.6,6.6],[1.4,1.6],[-2.5,1.2]]\n",
    "\n",
    "def classification(list_a, b):\n",
    "    dis = []\n",
    "    for i in list_a :\n",
    "        dis.append(math.sqrt((i[0]-b[0])**2+(i[1]-b[1])**2))\n",
    "    c = dis[0]\n",
    "    for j in dis :\n",
    "        if j < c :\n",
    "            c = j\n",
    "    num = 0\n",
    "    for k in range(len(dis)) :\n",
    "        if dis[k] == c :\n",
    "            num = k\n",
    "            break\n",
    "    return  list_a[k][2]\n",
    "\n",
    "for i in range(len(b)) :\n",
    "   b[i].append(classification(a, b[i])) \n",
    "print(b)\n"
   ]
  },
  {
   "cell_type": "code",
   "execution_count": null,
   "metadata": {},
   "outputs": [],
   "source": []
  }
 ],
 "metadata": {
  "kernelspec": {
   "display_name": "Python 3",
   "language": "python",
   "name": "python3"
  },
  "language_info": {
   "codemirror_mode": {
    "name": "ipython",
    "version": 3
   },
   "file_extension": ".py",
   "mimetype": "text/x-python",
   "name": "python",
   "nbconvert_exporter": "python",
   "pygments_lexer": "ipython3",
   "version": "3.7.4"
  }
 },
 "nbformat": 4,
 "nbformat_minor": 2
}
